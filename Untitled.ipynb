{
 "cells": [
  {
   "cell_type": "code",
   "execution_count": 4,
   "id": "9cad9b91-d7de-4fb5-ad43-17b59a1f1859",
   "metadata": {},
   "outputs": [
    {
     "name": "stderr",
     "output_type": "stream",
     "text": [
      "usage: ipykernel_launcher.py [-h] [-i IMAGEDIR] [-o OUTPUTDIR] [-r RATIO] [-x]\n",
      "ipykernel_launcher.py: error: unrecognized arguments: -f /home/ubantu/.local/share/jupyter/runtime/kernel-4d532a4d-1f67-4d3d-9c31-3ab9437093d2.json\n"
     ]
    },
    {
     "ename": "SystemExit",
     "evalue": "2",
     "output_type": "error",
     "traceback": [
      "An exception has occurred, use %tb to see the full traceback.\n",
      "\u001b[0;31mSystemExit\u001b[0m\u001b[0;31m:\u001b[0m 2\n"
     ]
    }
   ],
   "source": [
    "import os\n",
    "import re\n",
    "from shutil import copyfile\n",
    "import argparse\n",
    "import math\n",
    "import random\n",
    "\n",
    "\n",
    "def iterate_dir(source, dest, ratio, copy_xml):\n",
    "    source = source.replace('\\\\', '/')\n",
    "    dest = dest.replace('\\\\', '/')\n",
    "    train_dir = os.path.join(dest, 'train')\n",
    "    test_dir = os.path.join(dest, 'test')\n",
    "\n",
    "    if not os.path.exists(train_dir):\n",
    "        os.makedirs(train_dir)\n",
    "    if not os.path.exists(test_dir):\n",
    "        os.makedirs(test_dir)\n",
    "\n",
    "    images = [f for f in os.listdir(source)\n",
    "              if re.search(r'([a-zA-Z0-9\\s_\\\\.\\-\\(\\):])+(?i)(.jpg|.jpeg|.png)$', f)]\n",
    "\n",
    "    num_images = len(images)\n",
    "    num_test_images = math.ceil(ratio*num_images)\n",
    "\n",
    "    for i in range(num_test_images):\n",
    "        idx = random.randint(0, len(images)-1)\n",
    "        filename = images[idx]\n",
    "        copyfile(os.path.join(source, filename),\n",
    "                 os.path.join(test_dir, filename))\n",
    "        if copy_xml:\n",
    "            xml_filename = os.path.splitext(filename)[0]+'.xml'\n",
    "            copyfile(os.path.join(source, xml_filename),\n",
    "                     os.path.join(test_dir,xml_filename))\n",
    "        images.remove(images[idx])\n",
    "\n",
    "    for filename in images:\n",
    "        copyfile(os.path.join(source, filename),\n",
    "                 os.path.join(train_dir, filename))\n",
    "        if copy_xml:\n",
    "            xml_filename = os.path.splitext(filename)[0]+'.xml'\n",
    "            copyfile(os.path.join(source, xml_filename),\n",
    "                     os.path.join(train_dir, xml_filename))\n",
    "\n",
    "\n",
    "def main():\n",
    "\n",
    "    # Initiate argument parser\n",
    "    parser = argparse.ArgumentParser(description=\"Partition dataset of images into training and testing sets\",\n",
    "                                     formatter_class=argparse.RawTextHelpFormatter)\n",
    "    parser.add_argument(\n",
    "        '-i', '--imageDir',\n",
    "        help='Path to the folder where the image dataset is stored. If not specified, the CWD will be used.',\n",
    "        type=str,\n",
    "        default=os.getcwd()\n",
    "    )\n",
    "    parser.add_argument(\n",
    "        '-o', '--outputDir',\n",
    "        help='Path to the output folder where the train and test dirs should be created. '\n",
    "             'Defaults to the same directory as IMAGEDIR.',\n",
    "        type=str,\n",
    "        default=None\n",
    "    )\n",
    "    parser.add_argument(\n",
    "        '-r', '--ratio',\n",
    "        help='The ratio of the number of test images over the total number of images. The default is 0.1.',\n",
    "        default=0.1,\n",
    "        type=float)\n",
    "    parser.add_argument(\n",
    "        '-x', '--xml',\n",
    "        help='Set this flag if you want the xml annotation files to be processed and copied over.',\n",
    "        action='store_true'\n",
    "    )\n",
    "    args = parser.parse_args()\n",
    "\n",
    "    if args.outputDir is None:\n",
    "        args.outputDir = args.imageDir\n",
    "\n",
    "    # Now we are ready to start the iteration\n",
    "    iterate_dir(args.imageDir, args.outputDir, args.ratio, args.xml)\n",
    "\n",
    "\n",
    "if __name__ == '__main__':\n",
    "    main()"
   ]
  }
 ],
 "metadata": {
  "kernelspec": {
   "display_name": "Python 3 (ipykernel)",
   "language": "python",
   "name": "python3"
  },
  "language_info": {
   "codemirror_mode": {
    "name": "ipython",
    "version": 3
   },
   "file_extension": ".py",
   "mimetype": "text/x-python",
   "name": "python",
   "nbconvert_exporter": "python",
   "pygments_lexer": "ipython3",
   "version": "3.8.10"
  }
 },
 "nbformat": 4,
 "nbformat_minor": 5
}
